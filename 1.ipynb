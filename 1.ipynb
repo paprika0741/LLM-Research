{
 "cells": [
  {
   "cell_type": "code",
   "execution_count": 9,
   "metadata": {},
   "outputs": [
    {
     "name": "stdout",
     "output_type": "stream",
     "text": [
      "tensor([[[-0.1581,  1.0007,  0.5797],\n",
      "         [ 0.2948,  1.2885, -0.4634],\n",
      "         [-0.3178,  0.4968, -0.1996],\n",
      "         [ 1.8562,  1.1509, -0.9048],\n",
      "         [ 0.7747, -0.5693,  0.9551]]])\n",
      "tensor([[[ 0.4900,  0.6735, -0.0066]]])\n",
      "tensor([[[0.6116, 0.4578, 0.4642]]])\n",
      "tensor([[[0.7821, 0.6766, 0.6814]]])\n",
      "tensor([[[-1.3200,  1.0995,  0.2205],\n",
      "         [-0.1094,  1.2758, -1.1664],\n",
      "         [-0.8651,  1.4013, -0.5362],\n",
      "         [ 0.9865,  0.3843, -1.3708],\n",
      "         [ 0.5704, -1.4059,  0.8355]]], grad_fn=<NativeLayerNormBackward>)\n"
     ]
    }
   ],
   "source": [
    "# NLP Example\n",
    "import torch\n",
    "import torch.nn as nn\n",
    "batch, sentence_length, embedding_dim = 1, 5,3\n",
    "embedding = torch.randn(batch, sentence_length, embedding_dim)\n",
    "print(embedding)\n",
    "layer_norm = nn.LayerNorm(embedding_dim)\n",
    "# Activate module\n",
    "# calculate mean and variance\n",
    "# normalize\n",
    "print(embedding.mean(1, keepdim=True))\n",
    "print(embedding.var(1, keepdim=True, unbiased=False))\n",
    "print(embedding.std(1, keepdim=True, unbiased=False))\n",
    "nor_embedding = (embedding - embedding.mean(1, keepdim=True)) / embedding.std(1, keepdim=True, unbiased=False)\n",
    "print(nor_embedding)\n",
    "print(layer_norm(embedding))\n"
   ]
  }
 ],
 "metadata": {
  "kernelspec": {
   "display_name": "base",
   "language": "python",
   "name": "python3"
  },
  "language_info": {
   "codemirror_mode": {
    "name": "ipython",
    "version": 3
   },
   "file_extension": ".py",
   "mimetype": "text/x-python",
   "name": "python",
   "nbconvert_exporter": "python",
   "pygments_lexer": "ipython3",
   "version": "3.8.10"
  }
 },
 "nbformat": 4,
 "nbformat_minor": 2
}
